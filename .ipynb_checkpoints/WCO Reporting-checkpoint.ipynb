{
 "cells": [
  {
   "cell_type": "code",
   "execution_count": 56,
   "metadata": {
    "collapsed": false
   },
   "outputs": [],
   "source": [
    "import numpy as np #import numpy library\n",
    "import pandas as pd #import pandas library\n",
    "import matplotlib.pyplot as plt #import matplot library\n",
    "%matplotlib inline\n",
    "\n",
    "import glob\n",
    "import os\n",
    "\n",
    "import nltk.classify.util\n",
    "from astropy.table import Table, Column\n",
    "\n",
    "import string\n",
    "\n",
    "from sklearn import svm\n",
    "from sklearn import metrics\n"
   ]
  },
  {
   "cell_type": "code",
   "execution_count": 57,
   "metadata": {
    "collapsed": true
   },
   "outputs": [],
   "source": [
    " def loadMetricData(checkoutCenter, timeFrame):\n",
    "    path =  checkoutCenter + \"/\" + timeFrame + \"/\"\n",
    "#     print(path)\n",
    "    all_files = glob.glob(os.path.join(path, \"*.csv\")) \n",
    "#     print(all_files)\n",
    "    data = pd.DataFrame()\n",
    "    list_ = []\n",
    "    for file_ in all_files:\n",
    "        data = pd.read_csv(file_,index_col=None, header=0)\n",
    "        list_.append(data)\n",
    "        data = pd.concat(list_)\n",
    "    return data"
   ]
  },
  {
   "cell_type": "code",
   "execution_count": 58,
   "metadata": {
    "collapsed": false
   },
   "outputs": [],
   "source": [
    "metrics = loadMetricData('ERC', \"06222016_06232016\")\n",
    "\n",
    "# metrics.tail(5)"
   ]
  },
  {
   "cell_type": "code",
   "execution_count": 59,
   "metadata": {
    "collapsed": false
   },
   "outputs": [
    {
     "data": {
      "text/plain": [
       "Allocation                 object\n",
       "Latest Operator            object\n",
       "Patron                     object\n",
       "Patron Barcode            float64\n",
       "Patron Department          object\n",
       "Patron Email               object\n",
       "Renewal Count               int64\n",
       "Account Code              float64\n",
       "Actual Return Time         object\n",
       "Aggregate Value            object\n",
       "Allocation Notes           object\n",
       "Auto-Circulate             object\n",
       "Checkout Center            object\n",
       "Class Or Event Title      float64\n",
       "Contact Info              float64\n",
       "Contact Person            float64\n",
       "Charge Duration           float64\n",
       "Creation Time              object\n",
       "Credit Card Type          float64\n",
       "Default Patron Class       object\n",
       "Deliver To Location       float64\n",
       "Deliver To Name           float64\n",
       "Deliver To String         float64\n",
       "Delivery Type              object\n",
       "Effective Patron Class     object\n",
       "Effective Return Time      object\n",
       "Estimated Charges          object\n",
       "Invoices                  float64\n",
       "Item Count                  int64\n",
       "Item Names                 object\n",
       "Last Renewal               object\n",
       "Nonexpiring                object\n",
       "Org Ref ID                float64\n",
       "Original Operator          object\n",
       "P.O. Number               float64\n",
       "Patron ID                  object\n",
       "Patron Note               float64\n",
       "Payment Type               object\n",
       "Pickup Option              object\n",
       "Pickup Time                object\n",
       "Project Code              float64\n",
       "Requires Approval          object\n",
       "Resource Count              int64\n",
       "Renewal Limit             float64\n",
       "Return Option              object\n",
       "Return Time                object\n",
       "Returning Operator         object\n",
       "Route Summary             float64\n",
       "Set People                float64\n",
       "Set/Strike Info           float64\n",
       "Show                       object\n",
       "State                      object\n",
       "Strike People             float64\n",
       "Use Charge Duration        object\n",
       "Summary                    object\n",
       "dtype: object"
      ]
     },
     "execution_count": 59,
     "metadata": {},
     "output_type": "execute_result"
    }
   ],
   "source": [
    "metrics.dtypes"
   ]
  },
  {
   "cell_type": "code",
   "execution_count": 60,
   "metadata": {
    "collapsed": true
   },
   "outputs": [],
   "source": [
    "# clean metric data\n",
    "metrics['Actual Return Time'] = pd.to_datetime(metrics['Actual Return Time'])\n",
    "metrics['Return Time'] = pd.to_datetime(metrics['Return Time'])\n",
    "metrics['Pickup Time'] = pd.to_datetime(metrics['Pickup Time'])\n",
    "\n",
    "# metrics.dtypes\n",
    "# metrics.head(5)"
   ]
  },
  {
   "cell_type": "code",
   "execution_count": null,
   "metadata": {
    "collapsed": false
   },
   "outputs": [],
   "source": []
  },
  {
   "cell_type": "code",
   "execution_count": 61,
   "metadata": {
    "collapsed": false
   },
   "outputs": [],
   "source": [
    "# Sony Bodies\n",
    "metrics['Sony a99'] = metrics['Summary'].str.contains('A99')\n",
    "metrics['Sony a99 count'] = metrics['Summary'].str.count('A99')\n",
    "metrics['Sony a77'] = metrics['Summary'].str.contains('A77')\n",
    "metrics['Sony a77 count'] = metrics['Summary'].str.count('A77')\n",
    "metrics['Sony a65'] = metrics['Summary'].str.contains('A65')\n",
    "metrics['Sony a65 count'] = metrics['Summary'].str.count('A65')\n",
    "metrics['Sony NEX-7'] = metrics['Summary'].str.contains('NEX-7')\n",
    "metrics['Sony NEX-7 count'] = metrics['Summary'].str.count('NEX-7')\n",
    "metrics['Sony a7'] = metrics['Summary'].str.contains('A7')\n",
    "metrics['Sony a7 count'] = metrics['Summary'].str.count('A7')\n",
    "metrics['Sony RX1'] = metrics['Summary'].str.contains('RX1')\n",
    "metrics['Sony RX1 count'] = metrics['Summary'].str.count('RX1')\n",
    "\n",
    "# Sony Lenses\n",
    "metrics['Sony 50 Emount'] = metrics['Summary'].str.contains('50MM 1.8 E')\n",
    "metrics['Sony 50 Emount count'] = metrics['Summary'].str.count('50MM 1.8 E')\n",
    "metrics['Sony 24 Emount'] = metrics['Summary'].str.contains('24MM 1.8 E') # zeiss glass\n",
    "metrics['Sony 24 Emount count'] = metrics['Summary'].str.count('24MM 1.8 E') # zeiss glass\n",
    "metrics['Sony MACRO 100MM Amount'] = metrics['Summary'].str.contains('B08SL')\n",
    "metrics['Sony MACRO 100MM Amount count'] = metrics['Summary'].str.count('B08SL')\n",
    "metrics['Sony 18-250MM Amount'] = metrics['Summary'].str.contains('B09SL')\n",
    "metrics['Sony 18-250MM Amount count'] = metrics['Summary'].str.count('B09SL')\n",
    "metrics['Sony 24 Amount'] = metrics['Summary'].str.contains('ZEISS 24MM') # zeiss glass\n",
    "metrics['Sony 24 Amount count'] = metrics['Summary'].str.count('ZEISS 24MM') # zeiss glass\n",
    "metrics['Sony 85 Amount'] = metrics['Summary'].str.contains('ZEISS 85MM') # zeiss glass\n",
    "metrics['Sony 85 Amount count'] = metrics['Summary'].str.count('ZEISS 85MM') # zeiss glass\n",
    "metrics['Sony 70-200MM Amount'] = metrics['Summary'].str.contains('B12SL')\n",
    "metrics['Sony 70-200MM Amount count'] = metrics['Summary'].str.count('B12SL')\n",
    "metrics['Sony 70-300MM Amount'] = metrics['Summary'].str.contains('B17SL')\n",
    "metrics['Sony 70-300MM Amount count'] = metrics['Summary'].str.count('B17SL')\n",
    "metrics['Sony 24-70MM Amount'] = metrics['Summary'].str.contains('ZEISS 24-70') # zeiss glass\n",
    "metrics['Sony 24-70MM Amount count'] = metrics['Summary'].str.count('ZEISS 24-70') # zeiss glass\n",
    "metrics['Sony 50MM Amount'] = metrics['Summary'].str.contains('50MM') # need to fix picks up canon 50mm lenses too\n",
    "metrics['Sony 50MM Amount count'] = metrics['Summary'].str.count('50MM')# need to fix picks up canon 50mm lenses too\n"
   ]
  },
  {
   "cell_type": "code",
   "execution_count": 62,
   "metadata": {
    "collapsed": true
   },
   "outputs": [],
   "source": [
    "# Canon Bodies\n",
    "metrics['Canon 1DS'] = metrics['Summary'].str.contains('1DS')\n",
    "metrics['Canon 1DS count'] = metrics['Summary'].str.count('1DS')\n",
    "metrics['Canon 1DSMII'] = metrics['Summary'].str.contains('1DS MARK II')\n",
    "metrics['Canon 1DSMII count'] = metrics['Summary'].str.count('1DS MARK II')\n",
    "metrics['Canon 1DSMIII'] = metrics['Summary'].str.contains('1DS MARK III')\n",
    "metrics['Canon 1DSMIII count'] = metrics['Summary'].str.count('1DS MARK III')\n",
    "metrics['Canon 1DSMIV'] = metrics['Summary'].str.contains('1DS MARK IV')\n",
    "metrics['Canon 1DSMIV count'] = metrics['Summary'].str.count('1DS MARK IV')\n",
    "metrics['Canon 20D'] = metrics['Summary'].str.contains('20D') \n",
    "metrics['Canon 20D count'] = metrics['Summary'].str.count('20D')\n",
    "metrics['Canon 40D'] = metrics['Summary'].str.contains('40D')\n",
    "metrics['Canon 40D count'] = metrics['Summary'].str.count('40D')\n",
    "metrics['Canon 50D'] = metrics['Summary'].str.contains('50D')\n",
    "metrics['Canon 50D count'] = metrics['Summary'].str.count('50D')\n",
    "metrics['Canon 5D'] = metrics['Summary'].str.contains('5D')\n",
    "metrics['Canon 5D count'] = metrics['Summary'].str.count('5D')\n",
    "metrics['Canon 5DMII'] = metrics['Summary'].str.contains('5D MARK II')\n",
    "metrics['Canon 5DMII count'] = metrics['Summary'].str.count('5D MARK II')\n",
    "metrics['Canon 5DMIII'] = metrics['Summary'].str.contains('5D MARK III')\n",
    "metrics['Canon 5DMIII count'] = metrics['Summary'].str.count('5D MARK III')\n",
    "metrics['Canon 5DSR'] = metrics['Summary'].str.contains('5D SR')\n",
    "metrics['Canon 5DSR count'] = metrics['Summary'].str.count('5D SR')\n",
    "metrics['Canon 7D'] = metrics['Summary'].str.contains('7D')\n",
    "metrics['Canon 7D count'] = metrics['Summary'].str.count('7D')\n",
    "\n",
    "# Canon Lenses\n",
    "metrics['Canon 16-35MM'] = metrics['Summary'].str.contains('16-35MM')\n",
    "metrics['Canon 16-35MM count'] = metrics['Summary'].str.count('16-35MM')\n",
    "metrics['Canon MACRO 100'] = metrics['Summary'].str.contains('MACRO 100MM 2.8')\n",
    "metrics['Canon MACRO 100 count'] = metrics['Summary'].str.count('MACRO 100MM 2.8')\n",
    "metrics['Canon 85MM 1.8'] = metrics['Summary'].str.contains('85MM 1.8')\n",
    "metrics['Canon 85MM 1.8 count'] = metrics['Summary'].str.count('85MM 1.8')\n",
    "metrics['Canon 85MM 1.2'] = metrics['Summary'].str.contains('85MM 1.2')\n",
    "metrics['Canon 85MM 1.2 count'] = metrics['Summary'].str.count('85MM 1.2')\n",
    "metrics['Canon 135MM'] = metrics['Summary'].str.contains('135MM 2.0')\n",
    "metrics['Canon 135MM count'] = metrics['Summary'].str.count('135MM 2.0')\n",
    "metrics['Canon TILT SHIFT 90MM 2.8'] = metrics['Summary'].str.contains('TILT SHIFT 90MM 2.8')\n",
    "metrics['Canon TILT SHIFT 90MM 2.8 count'] = metrics['Summary'].str.count('TILT SHIFT 90MM 2.8')\n",
    "metrics['Canon TILT SHIFT 24MM 3.5'] = metrics['Summary'].str.contains('TILT SHIFT 24MM 3.5')\n",
    "metrics['Canon TILT SHIFT 24MM 3.5 count'] = metrics['Summary'].str.count('TILT SHIFT 24MM 3.5')\n",
    "\n",
    "\n",
    "\n",
    "# 50MM 1.4\n",
    "# TILT SHIFT 45MM 2.5\n",
    "# TILT SHIFT 17MM 4.0\n",
    "# MACRO 70-300MM 4.5-5.6\n",
    "# MACRO 65MM 2.8\n",
    "# MACRO 50MM 2.5\n",
    "# 50MM 1.2\n",
    "# 35MM 1.4\n",
    "# 24MM 1.4\n",
    "# 17-40MM 4.0\n",
    "# 100-300MM 4.5-5.6\n",
    "# 70-200MM 4.0\n",
    "# 70-200MM 2.8\n"
   ]
  },
  {
   "cell_type": "code",
   "execution_count": 63,
   "metadata": {
    "collapsed": true
   },
   "outputs": [],
   "source": [
    "# Nikon Bodies\n",
    "metrics['Nikon D40'] = metrics['Summary'].str.contains('D40')\n",
    "metrics['Nikon D40 count'] = metrics['Summary'].str.count('D40')\n",
    "metrics['Nikon D70'] = metrics['Summary'].str.contains('D70')\n",
    "metrics['Nikon D40 count'] = metrics['Summary'].str.count('D70')\n",
    "metrics['Nikon D3'] = metrics['Summary'].str.contains('D3 ')\n",
    "metrics['Nikon D40 count'] = metrics['Summary'].str.count('D3 ')\n",
    "metrics['Nikon D300'] = metrics['Summary'].str.contains('D300S')\n",
    "metrics['Nikon D40 count'] = metrics['Summary'].str.count('D300S')\n",
    "metrics['Nikon D700'] = metrics['Summary'].str.contains('D700')\n",
    "metrics['Nikon D40 count'] = metrics['Summary'].str.count('D700')\n",
    "metrics['Nikon D800'] = metrics['Summary'].str.contains('D800')\n",
    "metrics['Nikon D40 count'] = metrics['Summary'].str.count('D800')\n",
    "metrics['Nikon F50MM'] = metrics['Summary'].str.contains('NIKON F')\n",
    "metrics['Nikon D40 count'] = metrics['Summary'].str.count('NIKON F')\n",
    "\n",
    "#Nikon Lenses\n",
    "\n",
    "# 135MM 2.0 - B13NL\tAvailable\tParsons AMT Equipment Resource Center\n",
    "# 16MM 2.8 - B10NL\tAvailable\tParsons AMT Equipment Resource Center\n",
    "# 17-35MM 2.8 - B20NL\tAvailable\tParsons AMT Equipment Resource Center\n",
    "# 24-70MM - B28NL\tOffline indefinitely\tParsons AMT Equipment Resource Center\n",
    "# 24-70MM - B29NL\tOffline indefinitely\tParsons AMT Equipment Resource Center\n",
    "# 24-85MM 3.5-4.5 - B16NL\tChecked out until Jun 30, 2016 5:21 PM , CK-171418\tParsons AMT Equipment Resource Center\n",
    "# 28-105MM - B03NL\tOffline indefinitely\tParsons AMT Equipment Resource Center\n",
    "# 28MM 2.8 - B11NL\tAvailable\tParsons AMT Equipment Resource Center\n",
    "# 28MM 3.5 NIKKOR - A02NL\tAvailable\tParsons AMT Equipment Resource Center\n",
    "# 35MM 2.0 (FILM CAMERA ONLY) - B18NL\tAvailable\tParsons AMT Equipment Resource Center\n",
    "# 55-200MM - B15NL\tNon-circulating\tParsons AMT Equipment Resource Center\n",
    "# 55mm 2.8 Nikkor - A01NL\tChecked out until Jun 30, 2016 5:21 PM , CK-171418\tParsons AMT Equipment Resource Center\n",
    "# MACRO 105MM 2.8 - B12NL\tAvailable\tParsons AMT Equipment Resource Center\n",
    "# MACRO 35-70MM 2.8 - B01NL\n",
    "# 70-200MM 2.8\n",
    "# 80-200MM 2.8\n"
   ]
  },
  {
   "cell_type": "code",
   "execution_count": 64,
   "metadata": {
    "collapsed": true
   },
   "outputs": [],
   "source": [
    "# Date and Time\n",
    "# Check out\n",
    "metrics['ckout weekday'] = metrics['Pickup Time'].dt.weekday\n",
    "metrics['ckout month'] = metrics['Pickup Time'].dt.month\n",
    "metrics['ckout hour'] = metrics['Pickup Time'].dt.hour\n",
    "metrics['ckout min'] = metrics['Pickup Time'].dt.minute\n",
    "\n",
    "# Check in\n",
    "metrics['ckin weekday'] = metrics['Actual Return Time'].dt.weekday\n",
    "metrics['ckin month'] = metrics['Actual Return Time'].dt.month\n",
    "metrics['ckin hour'] = metrics['Actual Return Time'].dt.hour\n",
    "metrics['ckin min'] = metrics['Actual Return Time'].dt.minute\n",
    "\n",
    "# Late\n",
    "metrics['late'] = metrics['Actual Return Time'] - metrics['Return Time']\n",
    "\n",
    "\n"
   ]
  },
  {
   "cell_type": "code",
   "execution_count": 65,
   "metadata": {
    "collapsed": false
   },
   "outputs": [],
   "source": [
    "# metrics.head(5)\n"
   ]
  },
  {
   "cell_type": "code",
   "execution_count": null,
   "metadata": {
    "collapsed": true
   },
   "outputs": [],
   "source": []
  },
  {
   "cell_type": "code",
   "execution_count": null,
   "metadata": {
    "collapsed": true
   },
   "outputs": [],
   "source": []
  },
  {
   "cell_type": "code",
   "execution_count": null,
   "metadata": {
    "collapsed": true
   },
   "outputs": [],
   "source": []
  },
  {
   "cell_type": "code",
   "execution_count": null,
   "metadata": {
    "collapsed": true
   },
   "outputs": [],
   "source": []
  },
  {
   "cell_type": "code",
   "execution_count": null,
   "metadata": {
    "collapsed": true
   },
   "outputs": [],
   "source": []
  }
 ],
 "metadata": {
  "kernelspec": {
   "display_name": "Python 2",
   "language": "python",
   "name": "python2"
  },
  "language_info": {
   "codemirror_mode": {
    "name": "ipython",
    "version": 2
   },
   "file_extension": ".py",
   "mimetype": "text/x-python",
   "name": "python",
   "nbconvert_exporter": "python",
   "pygments_lexer": "ipython2",
   "version": "2.7.11"
  }
 },
 "nbformat": 4,
 "nbformat_minor": 0
}
